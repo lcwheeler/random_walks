{
 "cells": [
  {
   "cell_type": "code",
   "execution_count": 3,
   "metadata": {},
   "outputs": [],
   "source": [
    "import numpy as np\n",
    "import matplotlib.pyplot as plt"
   ]
  },
  {
   "cell_type": "code",
   "execution_count": 4,
   "metadata": {},
   "outputs": [],
   "source": [
    "from __future__ import print_function\n",
    "from ipywidgets import interact, interactive, fixed, interact_manual\n",
    "import ipywidgets as widgets"
   ]
  },
  {
   "cell_type": "markdown",
   "metadata": {},
   "source": [
    "## Random walk analagous to Brownian motion\n",
    "\n",
    "### This code makes an interactive plot for a simple 1D random walk. \n"
   ]
  },
  {
   "cell_type": "code",
   "execution_count": 5,
   "metadata": {},
   "outputs": [],
   "source": [
    "def randwalk(t_0, t_end, length):\n",
    "    \"\"\"A function describing a random walk process similar to Brownian motion\"\"\"\n",
    "    \n",
    "    t = np.linspace(t_0, t_end, length)\n",
    "    dt = np.mean(np.diff(t))\n",
    "    \n",
    "    y = np.zeros(length)\n",
    "    y0 = np.random.normal(loc=0.0, scale=1.0)\n",
    "    \n",
    "    \n",
    "    noise = np.random.normal(loc=0.0, scale=1.0, size=length)*np.sqrt(dt)\n",
    "    \n",
    "    for i in range(1, length):\n",
    "        y[i] = y[i-1] + noise[i]\n",
    "        \n",
    "    \n",
    "    return y, t\n",
    "        "
   ]
  },
  {
   "cell_type": "code",
   "execution_count": 8,
   "metadata": {},
   "outputs": [],
   "source": [
    "def iterate(trials, t_0, t_end, length):\n",
    "    \"\"\"Iterate over the random walk function and collect the outputs, \n",
    "    user can define paramaters and numbers of trials\"\"\"\n",
    "\n",
    "    Y = []\n",
    "    T = []\n",
    "    for i in range(trials):\n",
    "        y,t = randwalk(t_0, t_end, length)\n",
    "        Y.append(y)\n",
    "        T.append(t)\n",
    "\n",
    "    for t,y in zip(T,Y):\n",
    "        plt.plot(t,y)\n",
    "        plt.xlabel(\"Time (t)\")\n",
    "        plt.ylabel(\"Position (y)\")\n",
    "        "
   ]
  },
  {
   "cell_type": "code",
   "execution_count": 9,
   "metadata": {},
   "outputs": [
    {
     "data": {
      "application/vnd.jupyter.widget-view+json": {
       "model_id": "ac118f8b82a246cba6c27e1f271fdb53",
       "version_major": 2,
       "version_minor": 0
      },
      "text/html": [
       "<p>Failed to display Jupyter Widget of type <code>interactive</code>.</p>\n",
       "<p>\n",
       "  If you're reading this message in the Jupyter Notebook or JupyterLab Notebook, it may mean\n",
       "  that the widgets JavaScript is still loading. If this message persists, it\n",
       "  likely means that the widgets JavaScript library is either not installed or\n",
       "  not enabled. See the <a href=\"https://ipywidgets.readthedocs.io/en/stable/user_install.html\">Jupyter\n",
       "  Widgets Documentation</a> for setup instructions.\n",
       "</p>\n",
       "<p>\n",
       "  If you're reading this message in another frontend (for example, a static\n",
       "  rendering on GitHub or <a href=\"https://nbviewer.jupyter.org/\">NBViewer</a>),\n",
       "  it may mean that your frontend doesn't currently support widgets.\n",
       "</p>\n"
      ],
      "text/plain": [
       "interactive(children=(IntSlider(value=10, description='trials', min=1), IntSlider(value=0, description='t_0', max=0), IntSlider(value=2, description='t_end', max=50, min=2), IntSlider(value=1000, description='length', max=5000, min=10, step=10), Output()), _dom_classes=('widget-interact',))"
      ]
     },
     "metadata": {},
     "output_type": "display_data"
    },
    {
     "data": {
      "text/plain": [
       "<function __main__.iterate>"
      ]
     },
     "execution_count": 9,
     "metadata": {},
     "output_type": "execute_result"
    }
   ],
   "source": [
    "# Generate an interactive plot for the random walk function, allowing the user to slide over \n",
    "# various parameter values\n",
    "\n",
    "interact(iterate, trials=widgets.IntSlider(min=1,max=100,step=1,value=10)\n",
    ", t_0=widgets.IntSlider(min=0,max=0,step=1,value=0)\n",
    ", t_end=widgets.IntSlider(min=2,max=50,step=1,value=2)\n",
    ", length=widgets.IntSlider(min=10,max=5000,step=10,value=1000)\n",
    ")"
   ]
  },
  {
   "cell_type": "code",
   "execution_count": null,
   "metadata": {},
   "outputs": [],
   "source": []
  }
 ],
 "metadata": {
  "kernelspec": {
   "display_name": "Python 3",
   "language": "python",
   "name": "python3"
  },
  "language_info": {
   "codemirror_mode": {
    "name": "ipython",
    "version": 3
   },
   "file_extension": ".py",
   "mimetype": "text/x-python",
   "name": "python",
   "nbconvert_exporter": "python",
   "pygments_lexer": "ipython3",
   "version": "3.6.3"
  }
 },
 "nbformat": 4,
 "nbformat_minor": 2
}
